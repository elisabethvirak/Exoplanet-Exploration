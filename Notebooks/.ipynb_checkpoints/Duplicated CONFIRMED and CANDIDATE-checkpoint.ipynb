{
 "cells": [
  {
   "cell_type": "code",
   "execution_count": 1,
   "metadata": {},
   "outputs": [
    {
     "name": "stdout",
     "output_type": "stream",
     "text": [
      "Requirement already up-to-date: sklearn in c:\\users\\elisa\\anaconda3\\envs\\pythondata\\lib\\site-packages (0.0)\n",
      "Requirement already satisfied, skipping upgrade: scikit-learn in c:\\users\\elisa\\anaconda3\\envs\\pythondata\\lib\\site-packages (from sklearn) (0.22.1)\n",
      "Requirement already satisfied, skipping upgrade: numpy>=1.11.0 in c:\\users\\elisa\\anaconda3\\envs\\pythondata\\lib\\site-packages (from scikit-learn->sklearn) (1.18.1)\n",
      "Requirement already satisfied, skipping upgrade: joblib>=0.11 in c:\\users\\elisa\\anaconda3\\envs\\pythondata\\lib\\site-packages (from scikit-learn->sklearn) (0.15.1)\n",
      "Requirement already satisfied, skipping upgrade: scipy>=0.17.0 in c:\\users\\elisa\\anaconda3\\envs\\pythondata\\lib\\site-packages (from scikit-learn->sklearn) (1.4.1)\n"
     ]
    }
   ],
   "source": [
    "# Update sklearn to prevent version mismatches\n",
    "!pip install sklearn --upgrade"
   ]
  },
  {
   "cell_type": "code",
   "execution_count": 2,
   "metadata": {},
   "outputs": [
    {
     "name": "stdout",
     "output_type": "stream",
     "text": [
      "Requirement already satisfied: joblib in c:\\users\\elisa\\anaconda3\\envs\\pythondata\\lib\\site-packages (0.15.1)\n"
     ]
    }
   ],
   "source": [
    "# install joblib. This will be used to save your model. \n",
    "# Restart your kernel after installing \n",
    "!pip install joblib"
   ]
  },
  {
   "cell_type": "code",
   "execution_count": 3,
   "metadata": {},
   "outputs": [],
   "source": [
    "import pandas as pd\n",
    "import matplotlib.pyplot as plt\n",
    "import numpy as np\n",
    "import os\n",
    "\n",
    "# import train_test_split\n",
    "from sklearn.model_selection import train_test_split\n",
    "# import MinMaxScaler to scale data\n",
    "from sklearn.preprocessing import MinMaxScaler\n",
    "# import LogisticRegression for model1\n",
    "from sklearn.linear_model import LogisticRegression\n",
    "# import KNeighborsClassifier for model2\n",
    "from sklearn.neighbors import KNeighborsClassifier\n",
    "# import for decision tree for model3\n",
    "from sklearn import tree\n",
    "from sklearn.ensemble import RandomForestClassifier\n",
    "\n",
    "# import GridSearch\n",
    "from sklearn.model_selection import GridSearchCV"
   ]
  },
  {
   "cell_type": "markdown",
   "metadata": {},
   "source": [
    "# Read the CSV and Perform Basic Data Cleaning"
   ]
  },
  {
   "cell_type": "code",
   "execution_count": 4,
   "metadata": {},
   "outputs": [
    {
     "data": {
      "text/html": [
       "<div>\n",
       "<style scoped>\n",
       "    .dataframe tbody tr th:only-of-type {\n",
       "        vertical-align: middle;\n",
       "    }\n",
       "\n",
       "    .dataframe tbody tr th {\n",
       "        vertical-align: top;\n",
       "    }\n",
       "\n",
       "    .dataframe thead th {\n",
       "        text-align: right;\n",
       "    }\n",
       "</style>\n",
       "<table border=\"1\" class=\"dataframe\">\n",
       "  <thead>\n",
       "    <tr style=\"text-align: right;\">\n",
       "      <th></th>\n",
       "      <th>koi_disposition</th>\n",
       "      <th>koi_fpflag_nt</th>\n",
       "      <th>koi_fpflag_ss</th>\n",
       "      <th>koi_fpflag_co</th>\n",
       "      <th>koi_fpflag_ec</th>\n",
       "      <th>koi_period</th>\n",
       "      <th>koi_period_err1</th>\n",
       "      <th>koi_period_err2</th>\n",
       "      <th>koi_time0bk</th>\n",
       "      <th>koi_time0bk_err1</th>\n",
       "      <th>...</th>\n",
       "      <th>koi_steff_err2</th>\n",
       "      <th>koi_slogg</th>\n",
       "      <th>koi_slogg_err1</th>\n",
       "      <th>koi_slogg_err2</th>\n",
       "      <th>koi_srad</th>\n",
       "      <th>koi_srad_err1</th>\n",
       "      <th>koi_srad_err2</th>\n",
       "      <th>ra</th>\n",
       "      <th>dec</th>\n",
       "      <th>koi_kepmag</th>\n",
       "    </tr>\n",
       "  </thead>\n",
       "  <tbody>\n",
       "    <tr>\n",
       "      <th>0</th>\n",
       "      <td>CONFIRMED</td>\n",
       "      <td>0</td>\n",
       "      <td>0</td>\n",
       "      <td>0</td>\n",
       "      <td>0</td>\n",
       "      <td>54.418383</td>\n",
       "      <td>2.479000e-04</td>\n",
       "      <td>-2.479000e-04</td>\n",
       "      <td>162.513840</td>\n",
       "      <td>0.003520</td>\n",
       "      <td>...</td>\n",
       "      <td>-81</td>\n",
       "      <td>4.467</td>\n",
       "      <td>0.064</td>\n",
       "      <td>-0.096</td>\n",
       "      <td>0.927</td>\n",
       "      <td>0.105</td>\n",
       "      <td>-0.061</td>\n",
       "      <td>291.93423</td>\n",
       "      <td>48.141651</td>\n",
       "      <td>15.347</td>\n",
       "    </tr>\n",
       "    <tr>\n",
       "      <th>1</th>\n",
       "      <td>FALSE POSITIVE</td>\n",
       "      <td>0</td>\n",
       "      <td>1</td>\n",
       "      <td>0</td>\n",
       "      <td>0</td>\n",
       "      <td>19.899140</td>\n",
       "      <td>1.490000e-05</td>\n",
       "      <td>-1.490000e-05</td>\n",
       "      <td>175.850252</td>\n",
       "      <td>0.000581</td>\n",
       "      <td>...</td>\n",
       "      <td>-176</td>\n",
       "      <td>4.544</td>\n",
       "      <td>0.044</td>\n",
       "      <td>-0.176</td>\n",
       "      <td>0.868</td>\n",
       "      <td>0.233</td>\n",
       "      <td>-0.078</td>\n",
       "      <td>297.00482</td>\n",
       "      <td>48.134129</td>\n",
       "      <td>15.436</td>\n",
       "    </tr>\n",
       "    <tr>\n",
       "      <th>2</th>\n",
       "      <td>FALSE POSITIVE</td>\n",
       "      <td>0</td>\n",
       "      <td>1</td>\n",
       "      <td>0</td>\n",
       "      <td>0</td>\n",
       "      <td>1.736952</td>\n",
       "      <td>2.630000e-07</td>\n",
       "      <td>-2.630000e-07</td>\n",
       "      <td>170.307565</td>\n",
       "      <td>0.000115</td>\n",
       "      <td>...</td>\n",
       "      <td>-174</td>\n",
       "      <td>4.564</td>\n",
       "      <td>0.053</td>\n",
       "      <td>-0.168</td>\n",
       "      <td>0.791</td>\n",
       "      <td>0.201</td>\n",
       "      <td>-0.067</td>\n",
       "      <td>285.53461</td>\n",
       "      <td>48.285210</td>\n",
       "      <td>15.597</td>\n",
       "    </tr>\n",
       "    <tr>\n",
       "      <th>3</th>\n",
       "      <td>CONFIRMED</td>\n",
       "      <td>0</td>\n",
       "      <td>0</td>\n",
       "      <td>0</td>\n",
       "      <td>0</td>\n",
       "      <td>2.525592</td>\n",
       "      <td>3.760000e-06</td>\n",
       "      <td>-3.760000e-06</td>\n",
       "      <td>171.595550</td>\n",
       "      <td>0.001130</td>\n",
       "      <td>...</td>\n",
       "      <td>-211</td>\n",
       "      <td>4.438</td>\n",
       "      <td>0.070</td>\n",
       "      <td>-0.210</td>\n",
       "      <td>1.046</td>\n",
       "      <td>0.334</td>\n",
       "      <td>-0.133</td>\n",
       "      <td>288.75488</td>\n",
       "      <td>48.226200</td>\n",
       "      <td>15.509</td>\n",
       "    </tr>\n",
       "    <tr>\n",
       "      <th>4</th>\n",
       "      <td>CONFIRMED</td>\n",
       "      <td>0</td>\n",
       "      <td>0</td>\n",
       "      <td>0</td>\n",
       "      <td>0</td>\n",
       "      <td>4.134435</td>\n",
       "      <td>1.050000e-05</td>\n",
       "      <td>-1.050000e-05</td>\n",
       "      <td>172.979370</td>\n",
       "      <td>0.001900</td>\n",
       "      <td>...</td>\n",
       "      <td>-232</td>\n",
       "      <td>4.486</td>\n",
       "      <td>0.054</td>\n",
       "      <td>-0.229</td>\n",
       "      <td>0.972</td>\n",
       "      <td>0.315</td>\n",
       "      <td>-0.105</td>\n",
       "      <td>296.28613</td>\n",
       "      <td>48.224670</td>\n",
       "      <td>15.714</td>\n",
       "    </tr>\n",
       "    <tr>\n",
       "      <th>...</th>\n",
       "      <td>...</td>\n",
       "      <td>...</td>\n",
       "      <td>...</td>\n",
       "      <td>...</td>\n",
       "      <td>...</td>\n",
       "      <td>...</td>\n",
       "      <td>...</td>\n",
       "      <td>...</td>\n",
       "      <td>...</td>\n",
       "      <td>...</td>\n",
       "      <td>...</td>\n",
       "      <td>...</td>\n",
       "      <td>...</td>\n",
       "      <td>...</td>\n",
       "      <td>...</td>\n",
       "      <td>...</td>\n",
       "      <td>...</td>\n",
       "      <td>...</td>\n",
       "      <td>...</td>\n",
       "      <td>...</td>\n",
       "      <td>...</td>\n",
       "    </tr>\n",
       "    <tr>\n",
       "      <th>6986</th>\n",
       "      <td>FALSE POSITIVE</td>\n",
       "      <td>0</td>\n",
       "      <td>0</td>\n",
       "      <td>0</td>\n",
       "      <td>1</td>\n",
       "      <td>8.589871</td>\n",
       "      <td>1.846000e-04</td>\n",
       "      <td>-1.846000e-04</td>\n",
       "      <td>132.016100</td>\n",
       "      <td>0.015700</td>\n",
       "      <td>...</td>\n",
       "      <td>-152</td>\n",
       "      <td>4.296</td>\n",
       "      <td>0.231</td>\n",
       "      <td>-0.189</td>\n",
       "      <td>1.088</td>\n",
       "      <td>0.313</td>\n",
       "      <td>-0.228</td>\n",
       "      <td>298.74921</td>\n",
       "      <td>46.973351</td>\n",
       "      <td>14.478</td>\n",
       "    </tr>\n",
       "    <tr>\n",
       "      <th>6987</th>\n",
       "      <td>FALSE POSITIVE</td>\n",
       "      <td>0</td>\n",
       "      <td>1</td>\n",
       "      <td>1</td>\n",
       "      <td>0</td>\n",
       "      <td>0.527699</td>\n",
       "      <td>1.160000e-07</td>\n",
       "      <td>-1.160000e-07</td>\n",
       "      <td>131.705093</td>\n",
       "      <td>0.000170</td>\n",
       "      <td>...</td>\n",
       "      <td>-166</td>\n",
       "      <td>4.529</td>\n",
       "      <td>0.035</td>\n",
       "      <td>-0.196</td>\n",
       "      <td>0.903</td>\n",
       "      <td>0.237</td>\n",
       "      <td>-0.079</td>\n",
       "      <td>297.18875</td>\n",
       "      <td>47.093819</td>\n",
       "      <td>14.082</td>\n",
       "    </tr>\n",
       "    <tr>\n",
       "      <th>6988</th>\n",
       "      <td>CANDIDATE</td>\n",
       "      <td>0</td>\n",
       "      <td>0</td>\n",
       "      <td>0</td>\n",
       "      <td>0</td>\n",
       "      <td>1.739849</td>\n",
       "      <td>1.780000e-05</td>\n",
       "      <td>-1.780000e-05</td>\n",
       "      <td>133.001270</td>\n",
       "      <td>0.007690</td>\n",
       "      <td>...</td>\n",
       "      <td>-220</td>\n",
       "      <td>4.444</td>\n",
       "      <td>0.056</td>\n",
       "      <td>-0.224</td>\n",
       "      <td>1.031</td>\n",
       "      <td>0.341</td>\n",
       "      <td>-0.114</td>\n",
       "      <td>286.50937</td>\n",
       "      <td>47.163219</td>\n",
       "      <td>14.757</td>\n",
       "    </tr>\n",
       "    <tr>\n",
       "      <th>6989</th>\n",
       "      <td>FALSE POSITIVE</td>\n",
       "      <td>0</td>\n",
       "      <td>0</td>\n",
       "      <td>1</td>\n",
       "      <td>0</td>\n",
       "      <td>0.681402</td>\n",
       "      <td>2.430000e-06</td>\n",
       "      <td>-2.430000e-06</td>\n",
       "      <td>132.181750</td>\n",
       "      <td>0.002850</td>\n",
       "      <td>...</td>\n",
       "      <td>-236</td>\n",
       "      <td>4.447</td>\n",
       "      <td>0.056</td>\n",
       "      <td>-0.224</td>\n",
       "      <td>1.041</td>\n",
       "      <td>0.341</td>\n",
       "      <td>-0.114</td>\n",
       "      <td>294.16489</td>\n",
       "      <td>47.176281</td>\n",
       "      <td>15.385</td>\n",
       "    </tr>\n",
       "    <tr>\n",
       "      <th>6990</th>\n",
       "      <td>FALSE POSITIVE</td>\n",
       "      <td>0</td>\n",
       "      <td>0</td>\n",
       "      <td>1</td>\n",
       "      <td>1</td>\n",
       "      <td>4.856035</td>\n",
       "      <td>6.360000e-05</td>\n",
       "      <td>-6.360000e-05</td>\n",
       "      <td>135.993300</td>\n",
       "      <td>0.010800</td>\n",
       "      <td>...</td>\n",
       "      <td>-225</td>\n",
       "      <td>4.385</td>\n",
       "      <td>0.054</td>\n",
       "      <td>-0.216</td>\n",
       "      <td>1.193</td>\n",
       "      <td>0.410</td>\n",
       "      <td>-0.137</td>\n",
       "      <td>297.00977</td>\n",
       "      <td>47.121021</td>\n",
       "      <td>14.826</td>\n",
       "    </tr>\n",
       "  </tbody>\n",
       "</table>\n",
       "<p>6991 rows × 41 columns</p>\n",
       "</div>"
      ],
      "text/plain": [
       "     koi_disposition  koi_fpflag_nt  koi_fpflag_ss  koi_fpflag_co  \\\n",
       "0          CONFIRMED              0              0              0   \n",
       "1     FALSE POSITIVE              0              1              0   \n",
       "2     FALSE POSITIVE              0              1              0   \n",
       "3          CONFIRMED              0              0              0   \n",
       "4          CONFIRMED              0              0              0   \n",
       "...              ...            ...            ...            ...   \n",
       "6986  FALSE POSITIVE              0              0              0   \n",
       "6987  FALSE POSITIVE              0              1              1   \n",
       "6988       CANDIDATE              0              0              0   \n",
       "6989  FALSE POSITIVE              0              0              1   \n",
       "6990  FALSE POSITIVE              0              0              1   \n",
       "\n",
       "      koi_fpflag_ec  koi_period  koi_period_err1  koi_period_err2  \\\n",
       "0                 0   54.418383     2.479000e-04    -2.479000e-04   \n",
       "1                 0   19.899140     1.490000e-05    -1.490000e-05   \n",
       "2                 0    1.736952     2.630000e-07    -2.630000e-07   \n",
       "3                 0    2.525592     3.760000e-06    -3.760000e-06   \n",
       "4                 0    4.134435     1.050000e-05    -1.050000e-05   \n",
       "...             ...         ...              ...              ...   \n",
       "6986              1    8.589871     1.846000e-04    -1.846000e-04   \n",
       "6987              0    0.527699     1.160000e-07    -1.160000e-07   \n",
       "6988              0    1.739849     1.780000e-05    -1.780000e-05   \n",
       "6989              0    0.681402     2.430000e-06    -2.430000e-06   \n",
       "6990              1    4.856035     6.360000e-05    -6.360000e-05   \n",
       "\n",
       "      koi_time0bk  koi_time0bk_err1  ...  koi_steff_err2  koi_slogg  \\\n",
       "0      162.513840          0.003520  ...             -81      4.467   \n",
       "1      175.850252          0.000581  ...            -176      4.544   \n",
       "2      170.307565          0.000115  ...            -174      4.564   \n",
       "3      171.595550          0.001130  ...            -211      4.438   \n",
       "4      172.979370          0.001900  ...            -232      4.486   \n",
       "...           ...               ...  ...             ...        ...   \n",
       "6986   132.016100          0.015700  ...            -152      4.296   \n",
       "6987   131.705093          0.000170  ...            -166      4.529   \n",
       "6988   133.001270          0.007690  ...            -220      4.444   \n",
       "6989   132.181750          0.002850  ...            -236      4.447   \n",
       "6990   135.993300          0.010800  ...            -225      4.385   \n",
       "\n",
       "      koi_slogg_err1  koi_slogg_err2  koi_srad  koi_srad_err1  koi_srad_err2  \\\n",
       "0              0.064          -0.096     0.927          0.105         -0.061   \n",
       "1              0.044          -0.176     0.868          0.233         -0.078   \n",
       "2              0.053          -0.168     0.791          0.201         -0.067   \n",
       "3              0.070          -0.210     1.046          0.334         -0.133   \n",
       "4              0.054          -0.229     0.972          0.315         -0.105   \n",
       "...              ...             ...       ...            ...            ...   \n",
       "6986           0.231          -0.189     1.088          0.313         -0.228   \n",
       "6987           0.035          -0.196     0.903          0.237         -0.079   \n",
       "6988           0.056          -0.224     1.031          0.341         -0.114   \n",
       "6989           0.056          -0.224     1.041          0.341         -0.114   \n",
       "6990           0.054          -0.216     1.193          0.410         -0.137   \n",
       "\n",
       "             ra        dec  koi_kepmag  \n",
       "0     291.93423  48.141651      15.347  \n",
       "1     297.00482  48.134129      15.436  \n",
       "2     285.53461  48.285210      15.597  \n",
       "3     288.75488  48.226200      15.509  \n",
       "4     296.28613  48.224670      15.714  \n",
       "...         ...        ...         ...  \n",
       "6986  298.74921  46.973351      14.478  \n",
       "6987  297.18875  47.093819      14.082  \n",
       "6988  286.50937  47.163219      14.757  \n",
       "6989  294.16489  47.176281      15.385  \n",
       "6990  297.00977  47.121021      14.826  \n",
       "\n",
       "[6991 rows x 41 columns]"
      ]
     },
     "execution_count": 4,
     "metadata": {},
     "output_type": "execute_result"
    }
   ],
   "source": [
    "df = pd.read_csv(\"exoplanet_data.csv\")\n",
    "# Drop the null columns where all values are null\n",
    "df = df.dropna(axis='columns', how='all')\n",
    "# Drop the null rows\n",
    "df = df.dropna()\n",
    "df"
   ]
  },
  {
   "cell_type": "markdown",
   "metadata": {},
   "source": [
    "# Select your features (columns)"
   ]
  },
  {
   "cell_type": "code",
   "execution_count": 5,
   "metadata": {},
   "outputs": [],
   "source": [
    "# Set features. This will also be used as your x values.\n",
    "koi_ft = df[['koi_disposition', 'koi_fpflag_nt', 'koi_fpflag_ss', 'koi_fpflag_co', 'koi_fpflag_ec','koi_period','dec','koi_kepmag','koi_slogg','koi_impact']]"
   ]
  },
  {
   "cell_type": "code",
   "execution_count": 6,
   "metadata": {},
   "outputs": [],
   "source": [
    "conf_cand = koi_ft[(koi_ft['koi_disposition']=='CONFIRMED') | (koi_ft['koi_disposition']=='CANDIDATE')]\n",
    "conf_cand.reset_index(drop=True, inplace=True)"
   ]
  },
  {
   "cell_type": "code",
   "execution_count": 7,
   "metadata": {},
   "outputs": [
    {
     "data": {
      "text/html": [
       "<div>\n",
       "<style scoped>\n",
       "    .dataframe tbody tr th:only-of-type {\n",
       "        vertical-align: middle;\n",
       "    }\n",
       "\n",
       "    .dataframe tbody tr th {\n",
       "        vertical-align: top;\n",
       "    }\n",
       "\n",
       "    .dataframe thead th {\n",
       "        text-align: right;\n",
       "    }\n",
       "</style>\n",
       "<table border=\"1\" class=\"dataframe\">\n",
       "  <thead>\n",
       "    <tr style=\"text-align: right;\">\n",
       "      <th></th>\n",
       "      <th>koi_disposition</th>\n",
       "      <th>koi_fpflag_nt</th>\n",
       "      <th>koi_fpflag_ss</th>\n",
       "      <th>koi_fpflag_co</th>\n",
       "      <th>koi_fpflag_ec</th>\n",
       "      <th>koi_period</th>\n",
       "      <th>dec</th>\n",
       "      <th>koi_kepmag</th>\n",
       "      <th>koi_slogg</th>\n",
       "      <th>koi_impact</th>\n",
       "    </tr>\n",
       "  </thead>\n",
       "  <tbody>\n",
       "    <tr>\n",
       "      <th>0</th>\n",
       "      <td>CONFIRMED</td>\n",
       "      <td>0</td>\n",
       "      <td>0</td>\n",
       "      <td>0</td>\n",
       "      <td>0</td>\n",
       "      <td>54.418383</td>\n",
       "      <td>48.141651</td>\n",
       "      <td>15.347</td>\n",
       "      <td>4.467</td>\n",
       "      <td>0.586</td>\n",
       "    </tr>\n",
       "    <tr>\n",
       "      <th>1</th>\n",
       "      <td>CONFIRMED</td>\n",
       "      <td>0</td>\n",
       "      <td>0</td>\n",
       "      <td>0</td>\n",
       "      <td>0</td>\n",
       "      <td>2.525592</td>\n",
       "      <td>48.226200</td>\n",
       "      <td>15.509</td>\n",
       "      <td>4.438</td>\n",
       "      <td>0.701</td>\n",
       "    </tr>\n",
       "    <tr>\n",
       "      <th>2</th>\n",
       "      <td>CONFIRMED</td>\n",
       "      <td>0</td>\n",
       "      <td>0</td>\n",
       "      <td>0</td>\n",
       "      <td>0</td>\n",
       "      <td>4.134435</td>\n",
       "      <td>48.224670</td>\n",
       "      <td>15.714</td>\n",
       "      <td>4.486</td>\n",
       "      <td>0.762</td>\n",
       "    </tr>\n",
       "    <tr>\n",
       "      <th>3</th>\n",
       "      <td>CONFIRMED</td>\n",
       "      <td>0</td>\n",
       "      <td>0</td>\n",
       "      <td>0</td>\n",
       "      <td>0</td>\n",
       "      <td>2.566589</td>\n",
       "      <td>48.224670</td>\n",
       "      <td>15.714</td>\n",
       "      <td>4.486</td>\n",
       "      <td>0.755</td>\n",
       "    </tr>\n",
       "    <tr>\n",
       "      <th>4</th>\n",
       "      <td>CONFIRMED</td>\n",
       "      <td>0</td>\n",
       "      <td>0</td>\n",
       "      <td>0</td>\n",
       "      <td>0</td>\n",
       "      <td>16.068647</td>\n",
       "      <td>48.375790</td>\n",
       "      <td>15.841</td>\n",
       "      <td>4.485</td>\n",
       "      <td>0.052</td>\n",
       "    </tr>\n",
       "    <tr>\n",
       "      <th>...</th>\n",
       "      <td>...</td>\n",
       "      <td>...</td>\n",
       "      <td>...</td>\n",
       "      <td>...</td>\n",
       "      <td>...</td>\n",
       "      <td>...</td>\n",
       "      <td>...</td>\n",
       "      <td>...</td>\n",
       "      <td>...</td>\n",
       "      <td>...</td>\n",
       "    </tr>\n",
       "    <tr>\n",
       "      <th>3482</th>\n",
       "      <td>CANDIDATE</td>\n",
       "      <td>0</td>\n",
       "      <td>0</td>\n",
       "      <td>0</td>\n",
       "      <td>0</td>\n",
       "      <td>4.736816</td>\n",
       "      <td>44.505138</td>\n",
       "      <td>13.922</td>\n",
       "      <td>4.456</td>\n",
       "      <td>0.218</td>\n",
       "    </tr>\n",
       "    <tr>\n",
       "      <th>3483</th>\n",
       "      <td>CANDIDATE</td>\n",
       "      <td>0</td>\n",
       "      <td>0</td>\n",
       "      <td>0</td>\n",
       "      <td>0</td>\n",
       "      <td>130.235324</td>\n",
       "      <td>44.519939</td>\n",
       "      <td>15.991</td>\n",
       "      <td>4.529</td>\n",
       "      <td>0.075</td>\n",
       "    </tr>\n",
       "    <tr>\n",
       "      <th>3484</th>\n",
       "      <td>CANDIDATE</td>\n",
       "      <td>0</td>\n",
       "      <td>0</td>\n",
       "      <td>0</td>\n",
       "      <td>0</td>\n",
       "      <td>8.870416</td>\n",
       "      <td>50.239178</td>\n",
       "      <td>13.579</td>\n",
       "      <td>4.027</td>\n",
       "      <td>1.206</td>\n",
       "    </tr>\n",
       "    <tr>\n",
       "      <th>3485</th>\n",
       "      <td>CANDIDATE</td>\n",
       "      <td>0</td>\n",
       "      <td>0</td>\n",
       "      <td>0</td>\n",
       "      <td>0</td>\n",
       "      <td>47.109631</td>\n",
       "      <td>44.920090</td>\n",
       "      <td>13.731</td>\n",
       "      <td>3.597</td>\n",
       "      <td>1.230</td>\n",
       "    </tr>\n",
       "    <tr>\n",
       "      <th>3486</th>\n",
       "      <td>CANDIDATE</td>\n",
       "      <td>0</td>\n",
       "      <td>0</td>\n",
       "      <td>0</td>\n",
       "      <td>0</td>\n",
       "      <td>1.739849</td>\n",
       "      <td>47.163219</td>\n",
       "      <td>14.757</td>\n",
       "      <td>4.444</td>\n",
       "      <td>0.043</td>\n",
       "    </tr>\n",
       "  </tbody>\n",
       "</table>\n",
       "<p>3487 rows × 10 columns</p>\n",
       "</div>"
      ],
      "text/plain": [
       "     koi_disposition  koi_fpflag_nt  koi_fpflag_ss  koi_fpflag_co  \\\n",
       "0          CONFIRMED              0              0              0   \n",
       "1          CONFIRMED              0              0              0   \n",
       "2          CONFIRMED              0              0              0   \n",
       "3          CONFIRMED              0              0              0   \n",
       "4          CONFIRMED              0              0              0   \n",
       "...              ...            ...            ...            ...   \n",
       "3482       CANDIDATE              0              0              0   \n",
       "3483       CANDIDATE              0              0              0   \n",
       "3484       CANDIDATE              0              0              0   \n",
       "3485       CANDIDATE              0              0              0   \n",
       "3486       CANDIDATE              0              0              0   \n",
       "\n",
       "      koi_fpflag_ec  koi_period        dec  koi_kepmag  koi_slogg  koi_impact  \n",
       "0                 0   54.418383  48.141651      15.347      4.467       0.586  \n",
       "1                 0    2.525592  48.226200      15.509      4.438       0.701  \n",
       "2                 0    4.134435  48.224670      15.714      4.486       0.762  \n",
       "3                 0    2.566589  48.224670      15.714      4.486       0.755  \n",
       "4                 0   16.068647  48.375790      15.841      4.485       0.052  \n",
       "...             ...         ...        ...         ...        ...         ...  \n",
       "3482              0    4.736816  44.505138      13.922      4.456       0.218  \n",
       "3483              0  130.235324  44.519939      15.991      4.529       0.075  \n",
       "3484              0    8.870416  50.239178      13.579      4.027       1.206  \n",
       "3485              0   47.109631  44.920090      13.731      3.597       1.230  \n",
       "3486              0    1.739849  47.163219      14.757      4.444       0.043  \n",
       "\n",
       "[3487 rows x 10 columns]"
      ]
     },
     "execution_count": 7,
     "metadata": {},
     "output_type": "execute_result"
    }
   ],
   "source": [
    "conf_cand"
   ]
  },
  {
   "cell_type": "code",
   "execution_count": 8,
   "metadata": {},
   "outputs": [],
   "source": [
    "koi_ft_balanced = koi_ft.append(conf_cand)"
   ]
  },
  {
   "cell_type": "code",
   "execution_count": 9,
   "metadata": {},
   "outputs": [
    {
     "data": {
      "text/html": [
       "<div>\n",
       "<style scoped>\n",
       "    .dataframe tbody tr th:only-of-type {\n",
       "        vertical-align: middle;\n",
       "    }\n",
       "\n",
       "    .dataframe tbody tr th {\n",
       "        vertical-align: top;\n",
       "    }\n",
       "\n",
       "    .dataframe thead th {\n",
       "        text-align: right;\n",
       "    }\n",
       "</style>\n",
       "<table border=\"1\" class=\"dataframe\">\n",
       "  <thead>\n",
       "    <tr style=\"text-align: right;\">\n",
       "      <th></th>\n",
       "      <th>koi_disposition</th>\n",
       "      <th>koi_fpflag_nt</th>\n",
       "      <th>koi_fpflag_ss</th>\n",
       "      <th>koi_fpflag_co</th>\n",
       "      <th>koi_fpflag_ec</th>\n",
       "      <th>koi_period</th>\n",
       "      <th>dec</th>\n",
       "      <th>koi_kepmag</th>\n",
       "      <th>koi_slogg</th>\n",
       "      <th>koi_impact</th>\n",
       "    </tr>\n",
       "  </thead>\n",
       "  <tbody>\n",
       "    <tr>\n",
       "      <th>0</th>\n",
       "      <td>CONFIRMED</td>\n",
       "      <td>0</td>\n",
       "      <td>0</td>\n",
       "      <td>0</td>\n",
       "      <td>0</td>\n",
       "      <td>54.418383</td>\n",
       "      <td>48.141651</td>\n",
       "      <td>15.347</td>\n",
       "      <td>4.467</td>\n",
       "      <td>0.586</td>\n",
       "    </tr>\n",
       "    <tr>\n",
       "      <th>1</th>\n",
       "      <td>FALSE POSITIVE</td>\n",
       "      <td>0</td>\n",
       "      <td>1</td>\n",
       "      <td>0</td>\n",
       "      <td>0</td>\n",
       "      <td>19.899140</td>\n",
       "      <td>48.134129</td>\n",
       "      <td>15.436</td>\n",
       "      <td>4.544</td>\n",
       "      <td>0.969</td>\n",
       "    </tr>\n",
       "    <tr>\n",
       "      <th>2</th>\n",
       "      <td>FALSE POSITIVE</td>\n",
       "      <td>0</td>\n",
       "      <td>1</td>\n",
       "      <td>0</td>\n",
       "      <td>0</td>\n",
       "      <td>1.736952</td>\n",
       "      <td>48.285210</td>\n",
       "      <td>15.597</td>\n",
       "      <td>4.564</td>\n",
       "      <td>1.276</td>\n",
       "    </tr>\n",
       "    <tr>\n",
       "      <th>3</th>\n",
       "      <td>CONFIRMED</td>\n",
       "      <td>0</td>\n",
       "      <td>0</td>\n",
       "      <td>0</td>\n",
       "      <td>0</td>\n",
       "      <td>2.525592</td>\n",
       "      <td>48.226200</td>\n",
       "      <td>15.509</td>\n",
       "      <td>4.438</td>\n",
       "      <td>0.701</td>\n",
       "    </tr>\n",
       "    <tr>\n",
       "      <th>4</th>\n",
       "      <td>CONFIRMED</td>\n",
       "      <td>0</td>\n",
       "      <td>0</td>\n",
       "      <td>0</td>\n",
       "      <td>0</td>\n",
       "      <td>4.134435</td>\n",
       "      <td>48.224670</td>\n",
       "      <td>15.714</td>\n",
       "      <td>4.486</td>\n",
       "      <td>0.762</td>\n",
       "    </tr>\n",
       "    <tr>\n",
       "      <th>...</th>\n",
       "      <td>...</td>\n",
       "      <td>...</td>\n",
       "      <td>...</td>\n",
       "      <td>...</td>\n",
       "      <td>...</td>\n",
       "      <td>...</td>\n",
       "      <td>...</td>\n",
       "      <td>...</td>\n",
       "      <td>...</td>\n",
       "      <td>...</td>\n",
       "    </tr>\n",
       "    <tr>\n",
       "      <th>3482</th>\n",
       "      <td>CANDIDATE</td>\n",
       "      <td>0</td>\n",
       "      <td>0</td>\n",
       "      <td>0</td>\n",
       "      <td>0</td>\n",
       "      <td>4.736816</td>\n",
       "      <td>44.505138</td>\n",
       "      <td>13.922</td>\n",
       "      <td>4.456</td>\n",
       "      <td>0.218</td>\n",
       "    </tr>\n",
       "    <tr>\n",
       "      <th>3483</th>\n",
       "      <td>CANDIDATE</td>\n",
       "      <td>0</td>\n",
       "      <td>0</td>\n",
       "      <td>0</td>\n",
       "      <td>0</td>\n",
       "      <td>130.235324</td>\n",
       "      <td>44.519939</td>\n",
       "      <td>15.991</td>\n",
       "      <td>4.529</td>\n",
       "      <td>0.075</td>\n",
       "    </tr>\n",
       "    <tr>\n",
       "      <th>3484</th>\n",
       "      <td>CANDIDATE</td>\n",
       "      <td>0</td>\n",
       "      <td>0</td>\n",
       "      <td>0</td>\n",
       "      <td>0</td>\n",
       "      <td>8.870416</td>\n",
       "      <td>50.239178</td>\n",
       "      <td>13.579</td>\n",
       "      <td>4.027</td>\n",
       "      <td>1.206</td>\n",
       "    </tr>\n",
       "    <tr>\n",
       "      <th>3485</th>\n",
       "      <td>CANDIDATE</td>\n",
       "      <td>0</td>\n",
       "      <td>0</td>\n",
       "      <td>0</td>\n",
       "      <td>0</td>\n",
       "      <td>47.109631</td>\n",
       "      <td>44.920090</td>\n",
       "      <td>13.731</td>\n",
       "      <td>3.597</td>\n",
       "      <td>1.230</td>\n",
       "    </tr>\n",
       "    <tr>\n",
       "      <th>3486</th>\n",
       "      <td>CANDIDATE</td>\n",
       "      <td>0</td>\n",
       "      <td>0</td>\n",
       "      <td>0</td>\n",
       "      <td>0</td>\n",
       "      <td>1.739849</td>\n",
       "      <td>47.163219</td>\n",
       "      <td>14.757</td>\n",
       "      <td>4.444</td>\n",
       "      <td>0.043</td>\n",
       "    </tr>\n",
       "  </tbody>\n",
       "</table>\n",
       "<p>10478 rows × 10 columns</p>\n",
       "</div>"
      ],
      "text/plain": [
       "     koi_disposition  koi_fpflag_nt  koi_fpflag_ss  koi_fpflag_co  \\\n",
       "0          CONFIRMED              0              0              0   \n",
       "1     FALSE POSITIVE              0              1              0   \n",
       "2     FALSE POSITIVE              0              1              0   \n",
       "3          CONFIRMED              0              0              0   \n",
       "4          CONFIRMED              0              0              0   \n",
       "...              ...            ...            ...            ...   \n",
       "3482       CANDIDATE              0              0              0   \n",
       "3483       CANDIDATE              0              0              0   \n",
       "3484       CANDIDATE              0              0              0   \n",
       "3485       CANDIDATE              0              0              0   \n",
       "3486       CANDIDATE              0              0              0   \n",
       "\n",
       "      koi_fpflag_ec  koi_period        dec  koi_kepmag  koi_slogg  koi_impact  \n",
       "0                 0   54.418383  48.141651      15.347      4.467       0.586  \n",
       "1                 0   19.899140  48.134129      15.436      4.544       0.969  \n",
       "2                 0    1.736952  48.285210      15.597      4.564       1.276  \n",
       "3                 0    2.525592  48.226200      15.509      4.438       0.701  \n",
       "4                 0    4.134435  48.224670      15.714      4.486       0.762  \n",
       "...             ...         ...        ...         ...        ...         ...  \n",
       "3482              0    4.736816  44.505138      13.922      4.456       0.218  \n",
       "3483              0  130.235324  44.519939      15.991      4.529       0.075  \n",
       "3484              0    8.870416  50.239178      13.579      4.027       1.206  \n",
       "3485              0   47.109631  44.920090      13.731      3.597       1.230  \n",
       "3486              0    1.739849  47.163219      14.757      4.444       0.043  \n",
       "\n",
       "[10478 rows x 10 columns]"
      ]
     },
     "execution_count": 9,
     "metadata": {},
     "output_type": "execute_result"
    }
   ],
   "source": [
    "koi_ft_balanced"
   ]
  },
  {
   "cell_type": "markdown",
   "metadata": {},
   "source": [
    "# Create a Train Test Split\n",
    "\n",
    "Use `koi_disposition` for the y values"
   ]
  },
  {
   "cell_type": "code",
   "execution_count": 10,
   "metadata": {},
   "outputs": [],
   "source": [
    "# Assign X and y values\n",
    "X = koi_ft_balanced.drop('koi_disposition',axis=1)\n",
    "y = koi_ft_balanced['koi_disposition']"
   ]
  },
  {
   "cell_type": "code",
   "execution_count": 11,
   "metadata": {},
   "outputs": [],
   "source": [
    "# Use train_test_split to create test and train sets of data\n",
    "X_train,X_test,y_train,y_test = train_test_split(X, y, random_state=12)"
   ]
  },
  {
   "cell_type": "code",
   "execution_count": 12,
   "metadata": {},
   "outputs": [
    {
     "data": {
      "text/html": [
       "<div>\n",
       "<style scoped>\n",
       "    .dataframe tbody tr th:only-of-type {\n",
       "        vertical-align: middle;\n",
       "    }\n",
       "\n",
       "    .dataframe tbody tr th {\n",
       "        vertical-align: top;\n",
       "    }\n",
       "\n",
       "    .dataframe thead th {\n",
       "        text-align: right;\n",
       "    }\n",
       "</style>\n",
       "<table border=\"1\" class=\"dataframe\">\n",
       "  <thead>\n",
       "    <tr style=\"text-align: right;\">\n",
       "      <th></th>\n",
       "      <th>koi_fpflag_nt</th>\n",
       "      <th>koi_fpflag_ss</th>\n",
       "      <th>koi_fpflag_co</th>\n",
       "      <th>koi_fpflag_ec</th>\n",
       "      <th>koi_period</th>\n",
       "      <th>dec</th>\n",
       "      <th>koi_kepmag</th>\n",
       "      <th>koi_slogg</th>\n",
       "      <th>koi_impact</th>\n",
       "    </tr>\n",
       "  </thead>\n",
       "  <tbody>\n",
       "    <tr>\n",
       "      <th>2953</th>\n",
       "      <td>0</td>\n",
       "      <td>0</td>\n",
       "      <td>0</td>\n",
       "      <td>0</td>\n",
       "      <td>32.033211</td>\n",
       "      <td>51.016060</td>\n",
       "      <td>13.186</td>\n",
       "      <td>4.478</td>\n",
       "      <td>0.007</td>\n",
       "    </tr>\n",
       "    <tr>\n",
       "      <th>2001</th>\n",
       "      <td>0</td>\n",
       "      <td>0</td>\n",
       "      <td>0</td>\n",
       "      <td>0</td>\n",
       "      <td>4.159817</td>\n",
       "      <td>46.895741</td>\n",
       "      <td>13.177</td>\n",
       "      <td>4.635</td>\n",
       "      <td>0.676</td>\n",
       "    </tr>\n",
       "    <tr>\n",
       "      <th>3377</th>\n",
       "      <td>0</td>\n",
       "      <td>0</td>\n",
       "      <td>0</td>\n",
       "      <td>0</td>\n",
       "      <td>0.984942</td>\n",
       "      <td>49.994740</td>\n",
       "      <td>13.835</td>\n",
       "      <td>4.046</td>\n",
       "      <td>0.045</td>\n",
       "    </tr>\n",
       "    <tr>\n",
       "      <th>3083</th>\n",
       "      <td>0</td>\n",
       "      <td>0</td>\n",
       "      <td>0</td>\n",
       "      <td>0</td>\n",
       "      <td>25.913667</td>\n",
       "      <td>47.107769</td>\n",
       "      <td>12.556</td>\n",
       "      <td>3.804</td>\n",
       "      <td>0.982</td>\n",
       "    </tr>\n",
       "    <tr>\n",
       "      <th>2629</th>\n",
       "      <td>0</td>\n",
       "      <td>0</td>\n",
       "      <td>0</td>\n",
       "      <td>0</td>\n",
       "      <td>197.145533</td>\n",
       "      <td>46.122673</td>\n",
       "      <td>12.962</td>\n",
       "      <td>4.093</td>\n",
       "      <td>1.251</td>\n",
       "    </tr>\n",
       "  </tbody>\n",
       "</table>\n",
       "</div>"
      ],
      "text/plain": [
       "      koi_fpflag_nt  koi_fpflag_ss  koi_fpflag_co  koi_fpflag_ec  koi_period  \\\n",
       "2953              0              0              0              0   32.033211   \n",
       "2001              0              0              0              0    4.159817   \n",
       "3377              0              0              0              0    0.984942   \n",
       "3083              0              0              0              0   25.913667   \n",
       "2629              0              0              0              0  197.145533   \n",
       "\n",
       "            dec  koi_kepmag  koi_slogg  koi_impact  \n",
       "2953  51.016060      13.186      4.478       0.007  \n",
       "2001  46.895741      13.177      4.635       0.676  \n",
       "3377  49.994740      13.835      4.046       0.045  \n",
       "3083  47.107769      12.556      3.804       0.982  \n",
       "2629  46.122673      12.962      4.093       1.251  "
      ]
     },
     "execution_count": 12,
     "metadata": {},
     "output_type": "execute_result"
    }
   ],
   "source": [
    "X_train.head()"
   ]
  },
  {
   "cell_type": "markdown",
   "metadata": {},
   "source": [
    "# Pre-processing\n",
    "\n",
    "Scale the data using the MinMaxScaler and perform some feature selection"
   ]
  },
  {
   "cell_type": "code",
   "execution_count": 13,
   "metadata": {},
   "outputs": [],
   "source": [
    "# Scale data using MinMaxScaler\n",
    "X_scaler = MinMaxScaler().fit(X_train)\n",
    "X_train_scaled = X_scaler.transform(X_train)\n",
    "X_test_scaled = X_scaler.transform(X_test)"
   ]
  },
  {
   "cell_type": "markdown",
   "metadata": {},
   "source": [
    "# Train the Model\n",
    "\n"
   ]
  },
  {
   "cell_type": "markdown",
   "metadata": {},
   "source": [
    "### Logistic Regression"
   ]
  },
  {
   "cell_type": "code",
   "execution_count": 14,
   "metadata": {},
   "outputs": [
    {
     "data": {
      "text/plain": [
       "LogisticRegression(C=1.0, class_weight=None, dual=False, fit_intercept=True,\n",
       "                   intercept_scaling=1, l1_ratio=None, max_iter=100,\n",
       "                   multi_class='auto', n_jobs=None, penalty='l2',\n",
       "                   random_state=None, solver='lbfgs', tol=0.0001, verbose=0,\n",
       "                   warm_start=False)"
      ]
     },
     "execution_count": 14,
     "metadata": {},
     "output_type": "execute_result"
    }
   ],
   "source": [
    "classifier = LogisticRegression()\n",
    "classifier"
   ]
  },
  {
   "cell_type": "code",
   "execution_count": 15,
   "metadata": {},
   "outputs": [
    {
     "name": "stderr",
     "output_type": "stream",
     "text": [
      "C:\\Users\\elisa\\anaconda3\\envs\\PythonData\\lib\\site-packages\\sklearn\\linear_model\\_logistic.py:938: ConvergenceWarning: lbfgs failed to converge (status=1):\n",
      "STOP: TOTAL NO. of ITERATIONS REACHED LIMIT.\n",
      "\n",
      "Increase the number of iterations (max_iter) or scale the data as shown in:\n",
      "    https://scikit-learn.org/stable/modules/preprocessing.html\n",
      "Please also refer to the documentation for alternative solver options:\n",
      "    https://scikit-learn.org/stable/modules/linear_model.html#logistic-regression\n",
      "  n_iter_i = _check_optimize_result(\n"
     ]
    },
    {
     "data": {
      "text/plain": [
       "LogisticRegression(C=1.0, class_weight=None, dual=False, fit_intercept=True,\n",
       "                   intercept_scaling=1, l1_ratio=None, max_iter=100,\n",
       "                   multi_class='auto', n_jobs=None, penalty='l2',\n",
       "                   random_state=None, solver='lbfgs', tol=0.0001, verbose=0,\n",
       "                   warm_start=False)"
      ]
     },
     "execution_count": 15,
     "metadata": {},
     "output_type": "execute_result"
    }
   ],
   "source": [
    "classifier.fit(X_train,y_train)"
   ]
  },
  {
   "cell_type": "code",
   "execution_count": 16,
   "metadata": {},
   "outputs": [
    {
     "name": "stdout",
     "output_type": "stream",
     "text": [
      "Training Data Score: 0.7188852125222703\n",
      "Testing Data Score: 0.7072519083969465\n"
     ]
    }
   ],
   "source": [
    "print(f\"Training Data Score: {classifier.score(X_train, y_train)}\")\n",
    "print(f\"Testing Data Score: {classifier.score(X_test, y_test)}\")"
   ]
  },
  {
   "cell_type": "code",
   "execution_count": 17,
   "metadata": {},
   "outputs": [
    {
     "name": "stdout",
     "output_type": "stream",
     "text": [
      "First 10 Predictions:   ['CONFIRMED' 'CONFIRMED' 'CONFIRMED' 'CONFIRMED' 'CONFIRMED' 'CONFIRMED'\n",
      " 'FALSE POSITIVE' 'CANDIDATE' 'FALSE POSITIVE' 'CONFIRMED']\n",
      "First 10 Actual labels: ['CONFIRMED', 'CANDIDATE', 'CANDIDATE', 'CANDIDATE', 'CANDIDATE', 'CONFIRMED', 'FALSE POSITIVE', 'CONFIRMED', 'FALSE POSITIVE', 'CONFIRMED']\n"
     ]
    }
   ],
   "source": [
    "predictions = classifier.predict(X_test)\n",
    "\n",
    "print(f\"First 10 Predictions:   {predictions[:10]}\")\n",
    "print(f\"First 10 Actual labels: {y_test[:10].tolist()}\")"
   ]
  },
  {
   "cell_type": "code",
   "execution_count": 18,
   "metadata": {},
   "outputs": [],
   "source": [
    "model1 = pd.DataFrame({\"Prediction\": predictions, \"Actual\": y_test}).reset_index(drop=True)"
   ]
  },
  {
   "cell_type": "markdown",
   "metadata": {},
   "source": [
    "### K Nearest Neighbors"
   ]
  },
  {
   "cell_type": "code",
   "execution_count": 19,
   "metadata": {},
   "outputs": [
    {
     "data": {
      "image/png": "[encoded data removed]",
      "text/plain": [
       "<Figure size 432x288 with 1 Axes>"
      ]
     },
     "metadata": {
      "needs_background": "light"
     },
     "output_type": "display_data"
    }
   ],
   "source": [
    "train_scores = []\n",
    "test_scores = []\n",
    "for k in range(3, 20, 2):\n",
    "    knn = KNeighborsClassifier(n_neighbors = k)\n",
    "    knn.fit(X_train_scaled, y_train)\n",
    "    train_score = knn.score(X_train_scaled, y_train)\n",
    "    test_score = knn.score(X_test_scaled, y_test)\n",
    "    train_scores.append(train_score)\n",
    "    test_scores.append(test_score)\n",
    "\n",
    "plt.plot(range(3,20,2), train_scores)\n",
    "plt.plot(range(3,20,2), test_scores)\n",
    "plt.xlabel(\"K Neighbors\")\n",
    "plt.ylabel(\"Testing Accuracy Score\")\n",
    "plt.show()"
   ]
  },
  {
   "cell_type": "code",
   "execution_count": 20,
   "metadata": {},
   "outputs": [
    {
     "name": "stdout",
     "output_type": "stream",
     "text": [
      "k=15 Test Acc: 0.750\n"
     ]
    }
   ],
   "source": [
    "knn = KNeighborsClassifier(n_neighbors=15)\n",
    "knn.fit(X_train_scaled, y_train)\n",
    "print('k=15 Test Acc: %.3f' % knn.score(X_test_scaled, y_test))"
   ]
  },
  {
   "cell_type": "markdown",
   "metadata": {},
   "source": [
    "### Decision Tree"
   ]
  },
  {
   "cell_type": "code",
   "execution_count": 21,
   "metadata": {},
   "outputs": [
    {
     "name": "stdout",
     "output_type": "stream",
     "text": [
      "Train score: 0.7629167727157038\n",
      "Test score: 0.7347328244274809\n"
     ]
    }
   ],
   "source": [
    "clf = tree.DecisionTreeClassifier(max_depth=8)\n",
    "clf = clf.fit(X_train_scaled, y_train)\n",
    "print('Train score: {}'.format(clf.score(X_train_scaled, y_train)))\n",
    "print('Test score: {}'.format(clf.score(X_test_scaled, y_test)))"
   ]
  },
  {
   "cell_type": "markdown",
   "metadata": {},
   "source": [
    "### Random Forest"
   ]
  },
  {
   "cell_type": "code",
   "execution_count": 22,
   "metadata": {},
   "outputs": [
    {
     "data": {
      "text/plain": [
       "0.9358778625954198"
      ]
     },
     "execution_count": 22,
     "metadata": {},
     "output_type": "execute_result"
    }
   ],
   "source": [
    "rf = RandomForestClassifier(n_estimators=45)\n",
    "rf = rf.fit(X_train_scaled, y_train)\n",
    "rf.score(X_test_scaled, y_test)"
   ]
  },
  {
   "cell_type": "code",
   "execution_count": 23,
   "metadata": {},
   "outputs": [
    {
     "data": {
      "text/plain": [
       "[(0.16419976572596337, 'koi_fpflag_ss'),\n",
       " (0.1280951332098923, 'koi_period'),\n",
       " (0.12635596667568147, 'koi_fpflag_nt'),\n",
       " (0.12453890253739405, 'koi_impact'),\n",
       " (0.1085368721907486, 'koi_slogg'),\n",
       " (0.10465320699873429, 'koi_fpflag_co'),\n",
       " (0.09742605269315065, 'dec'),\n",
       " (0.0966925061598314, 'koi_kepmag'),\n",
       " (0.04950159380860391, 'koi_fpflag_ec')]"
      ]
     },
     "execution_count": 23,
     "metadata": {},
     "output_type": "execute_result"
    }
   ],
   "source": [
    "sorted(zip(rf.feature_importances_, X), reverse=True)"
   ]
  },
  {
   "cell_type": "code",
   "execution_count": 24,
   "metadata": {},
   "outputs": [
    {
     "name": "stdout",
     "output_type": "stream",
     "text": [
      "Training Data Score: 0.9997454823110206\n",
      "Testing Data Score: 0.9358778625954198\n"
     ]
    }
   ],
   "source": [
    "# Best Model Score\n",
    "print(f\"Training Data Score: {rf.score(X_train_scaled, y_train)}\")\n",
    "print(f\"Testing Data Score: {rf.score(X_test_scaled, y_test)}\")"
   ]
  },
  {
   "cell_type": "markdown",
   "metadata": {},
   "source": [
    "# Hyperparameter Tuning\n",
    "\n",
    "Use `GridSearchCV` to tune the model's parameters"
   ]
  },
  {
   "cell_type": "code",
   "execution_count": 25,
   "metadata": {},
   "outputs": [],
   "source": [
    "# Create the GridSearchCV model\n",
    "param_grid = {'n_estimators':[100,200,300,400,500],\n",
    "             'min_samples_leaf':[1,2,3,4]}"
   ]
  },
  {
   "cell_type": "code",
   "execution_count": 26,
   "metadata": {},
   "outputs": [],
   "source": [
    "# Train the model with GridSearch\n",
    "grid = GridSearchCV(RandomForestClassifier(),param_grid,verbose=3)"
   ]
  },
  {
   "cell_type": "code",
   "execution_count": 27,
   "metadata": {
    "scrolled": true
   },
   "outputs": [
    {
     "name": "stdout",
     "output_type": "stream",
     "text": [
      "Fitting 5 folds for each of 20 candidates, totalling 100 fits\n",
      "[CV] min_samples_leaf=1, n_estimators=100 ............................\n"
     ]
    },
    {
     "name": "stderr",
     "output_type": "stream",
     "text": [
      "[Parallel(n_jobs=1)]: Using backend SequentialBackend with 1 concurrent workers.\n"
     ]
    },
    {
     "name": "stdout",
     "output_type": "stream",
     "text": [
      "[CV]  min_samples_leaf=1, n_estimators=100, score=0.901, total=   1.1s\n",
      "[CV] min_samples_leaf=1, n_estimators=100 ............................\n"
     ]
    },
    {
     "name": "stderr",
     "output_type": "stream",
     "text": [
      "[Parallel(n_jobs=1)]: Done   1 out of   1 | elapsed:    1.0s remaining:    0.0s\n"
     ]
    },
    {
     "name": "stdout",
     "output_type": "stream",
     "text": [
      "[CV]  min_samples_leaf=1, n_estimators=100, score=0.898, total=   1.0s\n",
      "[CV] min_samples_leaf=1, n_estimators=100 ............................\n"
     ]
    },
    {
     "name": "stderr",
     "output_type": "stream",
     "text": [
      "[Parallel(n_jobs=1)]: Done   2 out of   2 | elapsed:    2.0s remaining:    0.0s\n"
     ]
    },
    {
     "name": "stdout",
     "output_type": "stream",
     "text": [
      "[CV]  min_samples_leaf=1, n_estimators=100, score=0.906, total=   1.0s\n",
      "[CV] min_samples_leaf=1, n_estimators=100 ............................\n",
      "[CV]  min_samples_leaf=1, n_estimators=100, score=0.897, total=   1.0s\n",
      "[CV] min_samples_leaf=1, n_estimators=100 ............................\n",
      "[CV]  min_samples_leaf=1, n_estimators=100, score=0.894, total=   1.0s\n",
      "[CV] min_samples_leaf=1, n_estimators=200 ............................\n",
      "[CV]  min_samples_leaf=1, n_estimators=200, score=0.902, total=   2.1s\n",
      "[CV] min_samples_leaf=1, n_estimators=200 ............................\n",
      "[CV]  min_samples_leaf=1, n_estimators=200, score=0.894, total=   2.1s\n",
      "[CV] min_samples_leaf=1, n_estimators=200 ............................\n",
      "[CV]  min_samples_leaf=1, n_estimators=200, score=0.908, total=   2.0s\n",
      "[CV] min_samples_leaf=1, n_estimators=200 ............................\n",
      "[CV]  min_samples_leaf=1, n_estimators=200, score=0.900, total=   2.0s\n",
      "[CV] min_samples_leaf=1, n_estimators=200 ............................\n",
      "[CV]  min_samples_leaf=1, n_estimators=200, score=0.892, total=   2.0s\n",
      "[CV] min_samples_leaf=1, n_estimators=300 ............................\n",
      "[CV]  min_samples_leaf=1, n_estimators=300, score=0.909, total=   3.1s\n",
      "[CV] min_samples_leaf=1, n_estimators=300 ............................\n",
      "[CV]  min_samples_leaf=1, n_estimators=300, score=0.899, total=   3.1s\n",
      "[CV] min_samples_leaf=1, n_estimators=300 ............................\n",
      "[CV]  min_samples_leaf=1, n_estimators=300, score=0.905, total=   3.0s\n",
      "[CV] min_samples_leaf=1, n_estimators=300 ............................\n",
      "[CV]  min_samples_leaf=1, n_estimators=300, score=0.903, total=   3.1s\n",
      "[CV] min_samples_leaf=1, n_estimators=300 ............................\n",
      "[CV]  min_samples_leaf=1, n_estimators=300, score=0.892, total=   3.0s\n",
      "[CV] min_samples_leaf=1, n_estimators=400 ............................\n",
      "[CV]  min_samples_leaf=1, n_estimators=400, score=0.905, total=   4.1s\n",
      "[CV] min_samples_leaf=1, n_estimators=400 ............................\n",
      "[CV]  min_samples_leaf=1, n_estimators=400, score=0.895, total=   4.2s\n",
      "[CV] min_samples_leaf=1, n_estimators=400 ............................\n",
      "[CV]  min_samples_leaf=1, n_estimators=400, score=0.905, total=   4.0s\n",
      "[CV] min_samples_leaf=1, n_estimators=400 ............................\n",
      "[CV]  min_samples_leaf=1, n_estimators=400, score=0.900, total=   4.2s\n",
      "[CV] min_samples_leaf=1, n_estimators=400 ............................\n",
      "[CV]  min_samples_leaf=1, n_estimators=400, score=0.891, total=   4.2s\n",
      "[CV] min_samples_leaf=1, n_estimators=500 ............................\n",
      "[CV]  min_samples_leaf=1, n_estimators=500, score=0.905, total=   5.3s\n",
      "[CV] min_samples_leaf=1, n_estimators=500 ............................\n",
      "[CV]  min_samples_leaf=1, n_estimators=500, score=0.895, total=   5.6s\n",
      "[CV] min_samples_leaf=1, n_estimators=500 ............................\n",
      "[CV]  min_samples_leaf=1, n_estimators=500, score=0.899, total=   5.3s\n",
      "[CV] min_samples_leaf=1, n_estimators=500 ............................\n",
      "[CV]  min_samples_leaf=1, n_estimators=500, score=0.899, total=   5.3s\n",
      "[CV] min_samples_leaf=1, n_estimators=500 ............................\n",
      "[CV]  min_samples_leaf=1, n_estimators=500, score=0.892, total=   5.4s\n",
      "[CV] min_samples_leaf=2, n_estimators=100 ............................\n",
      "[CV]  min_samples_leaf=2, n_estimators=100, score=0.892, total=   1.1s\n",
      "[CV] min_samples_leaf=2, n_estimators=100 ............................\n",
      "[CV]  min_samples_leaf=2, n_estimators=100, score=0.888, total=   1.1s\n",
      "[CV] min_samples_leaf=2, n_estimators=100 ............................\n",
      "[CV]  min_samples_leaf=2, n_estimators=100, score=0.898, total=   1.0s\n",
      "[CV] min_samples_leaf=2, n_estimators=100 ............................\n",
      "[CV]  min_samples_leaf=2, n_estimators=100, score=0.894, total=   1.0s\n",
      "[CV] min_samples_leaf=2, n_estimators=100 ............................\n",
      "[CV]  min_samples_leaf=2, n_estimators=100, score=0.878, total=   1.0s\n",
      "[CV] min_samples_leaf=2, n_estimators=200 ............................\n",
      "[CV]  min_samples_leaf=2, n_estimators=200, score=0.891, total=   2.1s\n",
      "[CV] min_samples_leaf=2, n_estimators=200 ............................\n",
      "[CV]  min_samples_leaf=2, n_estimators=200, score=0.891, total=   2.1s\n",
      "[CV] min_samples_leaf=2, n_estimators=200 ............................\n",
      "[CV]  min_samples_leaf=2, n_estimators=200, score=0.893, total=   2.1s\n",
      "[CV] min_samples_leaf=2, n_estimators=200 ............................\n",
      "[CV]  min_samples_leaf=2, n_estimators=200, score=0.889, total=   2.0s\n",
      "[CV] min_samples_leaf=2, n_estimators=200 ............................\n",
      "[CV]  min_samples_leaf=2, n_estimators=200, score=0.880, total=   2.0s\n",
      "[CV] min_samples_leaf=2, n_estimators=300 ............................\n",
      "[CV]  min_samples_leaf=2, n_estimators=300, score=0.892, total=   3.1s\n",
      "[CV] min_samples_leaf=2, n_estimators=300 ............................\n",
      "[CV]  min_samples_leaf=2, n_estimators=300, score=0.889, total=   3.1s\n",
      "[CV] min_samples_leaf=2, n_estimators=300 ............................\n",
      "[CV]  min_samples_leaf=2, n_estimators=300, score=0.898, total=   3.0s\n",
      "[CV] min_samples_leaf=2, n_estimators=300 ............................\n",
      "[CV]  min_samples_leaf=2, n_estimators=300, score=0.885, total=   3.1s\n",
      "[CV] min_samples_leaf=2, n_estimators=300 ............................\n",
      "[CV]  min_samples_leaf=2, n_estimators=300, score=0.879, total=   3.0s\n",
      "[CV] min_samples_leaf=2, n_estimators=400 ............................\n",
      "[CV]  min_samples_leaf=2, n_estimators=400, score=0.893, total=   4.1s\n",
      "[CV] min_samples_leaf=2, n_estimators=400 ............................\n",
      "[CV]  min_samples_leaf=2, n_estimators=400, score=0.891, total=   4.1s\n",
      "[CV] min_samples_leaf=2, n_estimators=400 ............................\n",
      "[CV]  min_samples_leaf=2, n_estimators=400, score=0.894, total=   4.2s\n",
      "[CV] min_samples_leaf=2, n_estimators=400 ............................\n",
      "[CV]  min_samples_leaf=2, n_estimators=400, score=0.892, total=   4.1s\n",
      "[CV] min_samples_leaf=2, n_estimators=400 ............................\n",
      "[CV]  min_samples_leaf=2, n_estimators=400, score=0.879, total=   4.1s\n",
      "[CV] min_samples_leaf=2, n_estimators=500 ............................\n",
      "[CV]  min_samples_leaf=2, n_estimators=500, score=0.897, total=   5.2s\n",
      "[CV] min_samples_leaf=2, n_estimators=500 ............................\n",
      "[CV]  min_samples_leaf=2, n_estimators=500, score=0.889, total=   5.2s\n",
      "[CV] min_samples_leaf=2, n_estimators=500 ............................\n",
      "[CV]  min_samples_leaf=2, n_estimators=500, score=0.891, total=   5.2s\n",
      "[CV] min_samples_leaf=2, n_estimators=500 ............................\n",
      "[CV]  min_samples_leaf=2, n_estimators=500, score=0.888, total=   5.1s\n",
      "[CV] min_samples_leaf=2, n_estimators=500 ............................\n",
      "[CV]  min_samples_leaf=2, n_estimators=500, score=0.880, total=   5.1s\n",
      "[CV] min_samples_leaf=3, n_estimators=100 ............................\n",
      "[CV]  min_samples_leaf=3, n_estimators=100, score=0.878, total=   1.0s\n",
      "[CV] min_samples_leaf=3, n_estimators=100 ............................\n",
      "[CV]  min_samples_leaf=3, n_estimators=100, score=0.877, total=   1.0s\n",
      "[CV] min_samples_leaf=3, n_estimators=100 ............................\n",
      "[CV]  min_samples_leaf=3, n_estimators=100, score=0.875, total=   1.0s\n",
      "[CV] min_samples_leaf=3, n_estimators=100 ............................\n",
      "[CV]  min_samples_leaf=3, n_estimators=100, score=0.885, total=   1.0s\n",
      "[CV] min_samples_leaf=3, n_estimators=100 ............................\n",
      "[CV]  min_samples_leaf=3, n_estimators=100, score=0.863, total=   1.0s\n",
      "[CV] min_samples_leaf=3, n_estimators=200 ............................\n",
      "[CV]  min_samples_leaf=3, n_estimators=200, score=0.877, total=   2.0s\n",
      "[CV] min_samples_leaf=3, n_estimators=200 ............................\n",
      "[CV]  min_samples_leaf=3, n_estimators=200, score=0.878, total=   2.0s\n",
      "[CV] min_samples_leaf=3, n_estimators=200 ............................\n",
      "[CV]  min_samples_leaf=3, n_estimators=200, score=0.880, total=   2.0s\n",
      "[CV] min_samples_leaf=3, n_estimators=200 ............................\n",
      "[CV]  min_samples_leaf=3, n_estimators=200, score=0.882, total=   2.0s\n",
      "[CV] min_samples_leaf=3, n_estimators=200 ............................\n",
      "[CV]  min_samples_leaf=3, n_estimators=200, score=0.864, total=   2.0s\n",
      "[CV] min_samples_leaf=3, n_estimators=300 ............................\n"
     ]
    },
    {
     "name": "stdout",
     "output_type": "stream",
     "text": [
      "[CV]  min_samples_leaf=3, n_estimators=300, score=0.879, total=   3.0s\n",
      "[CV] min_samples_leaf=3, n_estimators=300 ............................\n",
      "[CV]  min_samples_leaf=3, n_estimators=300, score=0.877, total=   3.0s\n",
      "[CV] min_samples_leaf=3, n_estimators=300 ............................\n",
      "[CV]  min_samples_leaf=3, n_estimators=300, score=0.883, total=   3.1s\n",
      "[CV] min_samples_leaf=3, n_estimators=300 ............................\n",
      "[CV]  min_samples_leaf=3, n_estimators=300, score=0.878, total=   3.0s\n",
      "[CV] min_samples_leaf=3, n_estimators=300 ............................\n",
      "[CV]  min_samples_leaf=3, n_estimators=300, score=0.863, total=   3.0s\n",
      "[CV] min_samples_leaf=3, n_estimators=400 ............................\n",
      "[CV]  min_samples_leaf=3, n_estimators=400, score=0.880, total=   4.0s\n",
      "[CV] min_samples_leaf=3, n_estimators=400 ............................\n",
      "[CV]  min_samples_leaf=3, n_estimators=400, score=0.878, total=   4.1s\n",
      "[CV] min_samples_leaf=3, n_estimators=400 ............................\n",
      "[CV]  min_samples_leaf=3, n_estimators=400, score=0.884, total=   4.0s\n",
      "[CV] min_samples_leaf=3, n_estimators=400 ............................\n",
      "[CV]  min_samples_leaf=3, n_estimators=400, score=0.880, total=   4.0s\n",
      "[CV] min_samples_leaf=3, n_estimators=400 ............................\n",
      "[CV]  min_samples_leaf=3, n_estimators=400, score=0.865, total=   4.0s\n",
      "[CV] min_samples_leaf=3, n_estimators=500 ............................\n",
      "[CV]  min_samples_leaf=3, n_estimators=500, score=0.878, total=   5.1s\n",
      "[CV] min_samples_leaf=3, n_estimators=500 ............................\n",
      "[CV]  min_samples_leaf=3, n_estimators=500, score=0.878, total=   5.0s\n",
      "[CV] min_samples_leaf=3, n_estimators=500 ............................\n",
      "[CV]  min_samples_leaf=3, n_estimators=500, score=0.884, total=   4.9s\n",
      "[CV] min_samples_leaf=3, n_estimators=500 ............................\n",
      "[CV]  min_samples_leaf=3, n_estimators=500, score=0.885, total=   4.9s\n",
      "[CV] min_samples_leaf=3, n_estimators=500 ............................\n",
      "[CV]  min_samples_leaf=3, n_estimators=500, score=0.871, total=   4.9s\n",
      "[CV] min_samples_leaf=4, n_estimators=100 ............................\n",
      "[CV]  min_samples_leaf=4, n_estimators=100, score=0.868, total=   1.0s\n",
      "[CV] min_samples_leaf=4, n_estimators=100 ............................\n",
      "[CV]  min_samples_leaf=4, n_estimators=100, score=0.858, total=   1.0s\n",
      "[CV] min_samples_leaf=4, n_estimators=100 ............................\n",
      "[CV]  min_samples_leaf=4, n_estimators=100, score=0.871, total=   1.0s\n",
      "[CV] min_samples_leaf=4, n_estimators=100 ............................\n",
      "[CV]  min_samples_leaf=4, n_estimators=100, score=0.866, total=   1.0s\n",
      "[CV] min_samples_leaf=4, n_estimators=100 ............................\n",
      "[CV]  min_samples_leaf=4, n_estimators=100, score=0.846, total=   1.0s\n",
      "[CV] min_samples_leaf=4, n_estimators=200 ............................\n",
      "[CV]  min_samples_leaf=4, n_estimators=200, score=0.866, total=   2.0s\n",
      "[CV] min_samples_leaf=4, n_estimators=200 ............................\n",
      "[CV]  min_samples_leaf=4, n_estimators=200, score=0.862, total=   1.9s\n",
      "[CV] min_samples_leaf=4, n_estimators=200 ............................\n",
      "[CV]  min_samples_leaf=4, n_estimators=200, score=0.865, total=   2.0s\n",
      "[CV] min_samples_leaf=4, n_estimators=200 ............................\n",
      "[CV]  min_samples_leaf=4, n_estimators=200, score=0.866, total=   1.9s\n",
      "[CV] min_samples_leaf=4, n_estimators=200 ............................\n",
      "[CV]  min_samples_leaf=4, n_estimators=200, score=0.852, total=   2.0s\n",
      "[CV] min_samples_leaf=4, n_estimators=300 ............................\n",
      "[CV]  min_samples_leaf=4, n_estimators=300, score=0.862, total=   2.9s\n",
      "[CV] min_samples_leaf=4, n_estimators=300 ............................\n",
      "[CV]  min_samples_leaf=4, n_estimators=300, score=0.864, total=   3.0s\n",
      "[CV] min_samples_leaf=4, n_estimators=300 ............................\n",
      "[CV]  min_samples_leaf=4, n_estimators=300, score=0.876, total=   2.9s\n",
      "[CV] min_samples_leaf=4, n_estimators=300 ............................\n",
      "[CV]  min_samples_leaf=4, n_estimators=300, score=0.864, total=   3.0s\n",
      "[CV] min_samples_leaf=4, n_estimators=300 ............................\n",
      "[CV]  min_samples_leaf=4, n_estimators=300, score=0.849, total=   2.8s\n",
      "[CV] min_samples_leaf=4, n_estimators=400 ............................\n",
      "[CV]  min_samples_leaf=4, n_estimators=400, score=0.870, total=   3.8s\n",
      "[CV] min_samples_leaf=4, n_estimators=400 ............................\n",
      "[CV]  min_samples_leaf=4, n_estimators=400, score=0.863, total=   3.8s\n",
      "[CV] min_samples_leaf=4, n_estimators=400 ............................\n",
      "[CV]  min_samples_leaf=4, n_estimators=400, score=0.872, total=   3.8s\n",
      "[CV] min_samples_leaf=4, n_estimators=400 ............................\n",
      "[CV]  min_samples_leaf=4, n_estimators=400, score=0.868, total=   3.8s\n",
      "[CV] min_samples_leaf=4, n_estimators=400 ............................\n",
      "[CV]  min_samples_leaf=4, n_estimators=400, score=0.847, total=   3.7s\n",
      "[CV] min_samples_leaf=4, n_estimators=500 ............................\n",
      "[CV]  min_samples_leaf=4, n_estimators=500, score=0.868, total=   4.8s\n",
      "[CV] min_samples_leaf=4, n_estimators=500 ............................\n",
      "[CV]  min_samples_leaf=4, n_estimators=500, score=0.864, total=   4.7s\n",
      "[CV] min_samples_leaf=4, n_estimators=500 ............................\n",
      "[CV]  min_samples_leaf=4, n_estimators=500, score=0.872, total=   4.7s\n",
      "[CV] min_samples_leaf=4, n_estimators=500 ............................\n",
      "[CV]  min_samples_leaf=4, n_estimators=500, score=0.868, total=   4.7s\n",
      "[CV] min_samples_leaf=4, n_estimators=500 ............................\n",
      "[CV]  min_samples_leaf=4, n_estimators=500, score=0.849, total=   4.7s\n"
     ]
    },
    {
     "name": "stderr",
     "output_type": "stream",
     "text": [
      "[Parallel(n_jobs=1)]: Done 100 out of 100 | elapsed:  5.0min finished\n"
     ]
    },
    {
     "data": {
      "text/plain": [
       "GridSearchCV(cv=None, error_score=nan,\n",
       "             estimator=RandomForestClassifier(bootstrap=True, ccp_alpha=0.0,\n",
       "                                              class_weight=None,\n",
       "                                              criterion='gini', max_depth=None,\n",
       "                                              max_features='auto',\n",
       "                                              max_leaf_nodes=None,\n",
       "                                              max_samples=None,\n",
       "                                              min_impurity_decrease=0.0,\n",
       "                                              min_impurity_split=None,\n",
       "                                              min_samples_leaf=1,\n",
       "                                              min_samples_split=2,\n",
       "                                              min_weight_fraction_leaf=0.0,\n",
       "                                              n_estimators=100, n_jobs=None,\n",
       "                                              oob_score=False,\n",
       "                                              random_state=None, verbose=0,\n",
       "                                              warm_start=False),\n",
       "             iid='deprecated', n_jobs=None,\n",
       "             param_grid={'min_samples_leaf': [1, 2, 3, 4],\n",
       "                         'n_estimators': [100, 200, 300, 400, 500]},\n",
       "             pre_dispatch='2*n_jobs', refit=True, return_train_score=False,\n",
       "             scoring=None, verbose=3)"
      ]
     },
     "execution_count": 27,
     "metadata": {},
     "output_type": "execute_result"
    }
   ],
   "source": [
    "grid.fit(X_train_scaled,y_train)"
   ]
  },
  {
   "cell_type": "code",
   "execution_count": 32,
   "metadata": {},
   "outputs": [
    {
     "name": "stdout",
     "output_type": "stream",
     "text": [
      "{'min_samples_leaf': 2, 'n_estimators': 400}\n",
      "0.8126978438207235\n"
     ]
    }
   ],
   "source": [
    "print(grid.best_params_)\n",
    "print(grid.best_score_)"
   ]
  },
  {
   "cell_type": "markdown",
   "metadata": {},
   "source": [
    "## Classification Report"
   ]
  },
  {
   "cell_type": "code",
   "execution_count": 33,
   "metadata": {},
   "outputs": [
    {
     "data": {
      "text/plain": [
       "array(['CANDIDATE', 'FALSE POSITIVE', 'FALSE POSITIVE', ..., 'CANDIDATE',\n",
       "       'FALSE POSITIVE', 'FALSE POSITIVE'], dtype=object)"
      ]
     },
     "execution_count": 33,
     "metadata": {},
     "output_type": "execute_result"
    }
   ],
   "source": [
    "predictions = grid.predict(X_test_scaled)"
   ]
  },
  {
   "cell_type": "code",
   "execution_count": 34,
   "metadata": {},
   "outputs": [
    {
     "name": "stdout",
     "output_type": "stream",
     "text": [
      "                precision    recall  f1-score   support\n",
      "\n",
      "     CANDIDATE       0.60      0.48      0.54       401\n",
      "     CONFIRMED       0.61      0.70      0.65       456\n",
      "FALSE POSITIVE       0.98      1.00      0.99       891\n",
      "\n",
      "      accuracy                           0.80      1748\n",
      "     macro avg       0.73      0.73      0.73      1748\n",
      "  weighted avg       0.80      0.80      0.80      1748\n",
      "\n"
     ]
    }
   ],
   "source": [
    "from sklearn.metrics import classification_report\n",
    "print(classification_report(y_test,predictions))"
   ]
  },
  {
   "cell_type": "markdown",
   "metadata": {},
   "source": [
    "# Save the Model"
   ]
  },
  {
   "cell_type": "code",
   "execution_count": null,
   "metadata": {},
   "outputs": [],
   "source": [
    "# save your model by updating \"your_name\" with your name\n",
    "# and \"your_model\" with your model variable\n",
    "# be sure to turn this in to BCS\n",
    "# if joblib fails to import, try running the command to install in terminal/git-bash\n",
    "import joblib\n",
    "filename = 'your_name.sav'\n",
    "joblib.dump(your_model, filename)"
   ]
  }
 ],
 "metadata": {
  "kernel_info": {
   "name": "dev"
  },
  "kernelspec": {
   "display_name": "Python 3",
   "language": "python",
   "name": "python3"
  },
  "language_info": {
   "codemirror_mode": {
    "name": "ipython",
    "version": 3
   },
   "file_extension": ".py",
   "mimetype": "text/x-python",
   "name": "python",
   "nbconvert_exporter": "python",
   "pygments_lexer": "ipython3",
   "version": "3.8.2"
  },
  "nteract": {
   "version": "0.12.3"
  }
 },
 "nbformat": 4,
 "nbformat_minor": 2
}
